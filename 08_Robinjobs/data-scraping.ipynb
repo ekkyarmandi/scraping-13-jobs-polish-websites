{
 "cells": [
  {
   "cell_type": "code",
   "execution_count": 44,
   "id": "d466c90a-df23-4e4e-92e5-0e580b841db1",
   "metadata": {},
   "outputs": [],
   "source": [
    "import requests\n",
    "from pprint import pprint\n",
    "from bs4 import BeautifulSoup\n",
    "from math import nan, ceil\n",
    "import json, re, os\n",
    "\n",
    "headers = {\"user-agent\":\"Mozilla/5.0 (Windows NT 10.0; Win64; x64) AppleWebKit/537.36 (KHTML, like Gecko) Chrome/98.0.4758.82 Safari/537.36\"}\n",
    "\n",
    "def render_html(url):\n",
    "    req = requests.get(url,headers=headers)\n",
    "    page = BeautifulSoup(req.text,\"html.parser\")\n",
    "    return page\n",
    "\n",
    "def get_jobs(page):\n",
    "    jobs = []\n",
    "    for a in page.find_all(\"a\",class_=\"vacancy-item\"):\n",
    "        try:\n",
    "            link = a['href']\n",
    "            title = a.find(\"h2\").get_text().strip()\n",
    "            company = a.find(\"div\",class_=\"vacancy-item__name\").get_text().strip()\n",
    "            city = a.find(\"div\",class_=\"vacancy-item__location\").get_text().strip()\n",
    "            pos_open = a.find(\"div\",class_=\"vacancy-item__info\").find(\"strong\").get_text().strip()\n",
    "            desc = a.find(\"div\",class_=\"vacancy-item__description\").get_text().strip()\n",
    "            job = {\n",
    "                \"Link\": link,\n",
    "                \"Title\": title,\n",
    "                \"Company\": company,\n",
    "                \"City\": city,\n",
    "                \"Position Open\": pos_open,\n",
    "                \"Description\": desc\n",
    "            }\n",
    "            jobs.append(job)\n",
    "        except: pass\n",
    "    return jobs"
   ]
  },
  {
   "cell_type": "code",
   "execution_count": 8,
   "id": "ecb53e9b-1901-48ce-92ca-7edb28407dee",
   "metadata": {},
   "outputs": [],
   "source": [
    "# url = \"https://robin.jobs/job-offers-abroad\"\n",
    "# page = render_html(url)"
   ]
  },
  {
   "cell_type": "code",
   "execution_count": null,
   "id": "a02004cd-789d-4402-b5ec-803ca8e956b2",
   "metadata": {},
   "outputs": [],
   "source": [
    "# find max page\n",
    "# total = int(page.find(\"ul\",class_=\"h-menu side-menu h-clearfix\").find(\"li\").find(\"span\").get_text())\n",
    "# max_page = ceil(total/6)"
   ]
  },
  {
   "cell_type": "code",
   "execution_count": null,
   "id": "c77bb525-1247-4151-8072-59c838c568ec",
   "metadata": {},
   "outputs": [],
   "source": [
    "# url = \"https://robin.jobs/wp-admin/admin-ajax.php?action=getVacancyArchive&page=2&firstArchivePostId=false\"\n",
    "# req = requests.get(url,headers=headers)"
   ]
  },
  {
   "cell_type": "code",
   "execution_count": null,
   "id": "f5b19cbd-11b1-4a52-982e-f666bdb3c53a",
   "metadata": {},
   "outputs": [],
   "source": [
    "# jobs = get_jobs(page)"
   ]
  },
  {
   "cell_type": "code",
   "execution_count": 45,
   "id": "4e8c5b12-4009-4e0c-b0fc-cafaf0bea484",
   "metadata": {},
   "outputs": [],
   "source": [
    "# scrape first page\n",
    "url = \"https://robin.jobs/job-offers-abroad\"\n",
    "page = render_html(url)\n",
    "jobs = get_jobs(page)\n",
    "\n",
    "# iterate and scrape the next page\n",
    "i = 2\n",
    "while True:\n",
    "    url = f\"https://robin.jobs/wp-admin/admin-ajax.php?action=getVacancyArchive&page={i}&firstArchivePostId=false\"\n",
    "    req = requests.get(url,headers=headers)\n",
    "    data = req.json()\n",
    "    result = data['firstArchivePostId']\n",
    "    page = BeautifulSoup(data['postsHTML'],\"html.parser\")\n",
    "    new_jobs = get_jobs(page)\n",
    "    jobs.extend(new_jobs)\n",
    "    if result != False:\n",
    "        break\n",
    "    else:\n",
    "        i += 1"
   ]
  },
  {
   "cell_type": "code",
   "execution_count": 46,
   "id": "fe2dfd51-b015-4191-a1ef-024ac92ce731",
   "metadata": {},
   "outputs": [],
   "source": [
    "import pandas as pd\n",
    "\n",
    "df = pd.DataFrame(jobs)\n",
    "df.to_excel(\"sbaflex.xlsx\",index=False,encoding=\"utf-8\")"
   ]
  },
  {
   "cell_type": "code",
   "execution_count": null,
   "id": "4dd6ac91-69f0-441b-839e-9e87c2037058",
   "metadata": {},
   "outputs": [],
   "source": []
  }
 ],
 "metadata": {
  "kernelspec": {
   "display_name": "Python 3 (ipykernel)",
   "language": "python",
   "name": "python3"
  },
  "language_info": {
   "codemirror_mode": {
    "name": "ipython",
    "version": 3
   },
   "file_extension": ".py",
   "mimetype": "text/x-python",
   "name": "python",
   "nbconvert_exporter": "python",
   "pygments_lexer": "ipython3",
   "version": "3.9.10"
  }
 },
 "nbformat": 4,
 "nbformat_minor": 5
}

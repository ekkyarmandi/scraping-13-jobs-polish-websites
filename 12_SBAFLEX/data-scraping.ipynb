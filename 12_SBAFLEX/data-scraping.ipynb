{
 "cells": [
  {
   "cell_type": "code",
   "execution_count": 24,
   "id": "d466c90a-df23-4e4e-92e5-0e580b841db1",
   "metadata": {},
   "outputs": [],
   "source": [
    "import requests\n",
    "from bs4 import BeautifulSoup\n",
    "from math import nan\n",
    "import json, re, os\n",
    "\n",
    "headers = {\"user-agent\":\"Mozilla/5.0 (Windows NT 10.0; Win64; x64) AppleWebKit/537.36 (KHTML, like Gecko) Chrome/98.0.4758.82 Safari/537.36\"}\n",
    "\n",
    "def render_html(url):\n",
    "    req = requests.get(url,headers=headers)\n",
    "    page = BeautifulSoup(req.text,\"html.parser\")\n",
    "    return page\n",
    "\n",
    "def get_max(page):\n",
    "    pagination = []\n",
    "    for d in page.find(\"ul\",class_=\"pagination\").find_all(\"li\"):\n",
    "        try:\n",
    "            d = int(d.get_text())\n",
    "            pagination.append(d)\n",
    "        except: pass\n",
    "    return pagination[-1]\n",
    "\n",
    "def get_urls(url,including=None):\n",
    "    page = render_html(url)\n",
    "    urls = []\n",
    "    ref = \"https://www.sbaflex.com\"\n",
    "    for section in page.find_all(\"section\",class_=\"vacancy-card\"):\n",
    "        link = ref+section.find(\"a\")['href']\n",
    "        urls.append(link)\n",
    "    urls = list(dict.fromkeys(urls))\n",
    "    if including == \"max_page\":\n",
    "        return urls, max_page\n",
    "    else:\n",
    "        return urls"
   ]
  },
  {
   "cell_type": "code",
   "execution_count": 31,
   "id": "6de62390-9613-4e32-b47d-9c2995bda59a",
   "metadata": {},
   "outputs": [],
   "source": [
    "# url = \"https://www.sbaflex.com/pl_PL/vacatures\"\n",
    "# url = \"https://www.sbaflex.com/pl_PL/vacatures-detail/vacancy/132-montaz-moskitier.html\"\n",
    "# page = render_html(url)"
   ]
  },
  {
   "cell_type": "code",
   "execution_count": 26,
   "id": "d5ae1b5e-666f-445f-9e39-b12564e9a7d4",
   "metadata": {},
   "outputs": [
    {
     "name": "stdout",
     "output_type": "stream",
     "text": [
      "Page: 0,10,20,30,40.\n"
     ]
    }
   ],
   "source": [
    "# scrape the initial\n",
    "url = \"https://www.sbaflex.com/pl_PL/vacatures\"\n",
    "urls, max_page = get_urls(url,including=\"max_page\")\n",
    "print(\"Page:\",end=\" \")\n",
    "\n",
    "# scrape jobs\n",
    "j = 0\n",
    "for i in range(max_page):\n",
    "    url = f\"https://www.sbaflex.com/pl_PL/vacatures/offset/{j}\"\n",
    "    new_urls = get_urls(url)\n",
    "    urls.extend(new_urls)\n",
    "    print(j,end=\",\")\n",
    "    j += 10\n",
    "print(\"\\b.\")"
   ]
  },
  {
   "cell_type": "code",
   "execution_count": 50,
   "id": "9e0a6bed-9bea-42ec-8e95-59de6afac31c",
   "metadata": {},
   "outputs": [
    {
     "name": "stdout",
     "output_type": "stream",
     "text": [
      "Index: 0,1,2,3,4,5,6,7,8,9,10,11,12,13,14,15,16,17,18,19,20,21,22,23,24,25,26,27,28,29,30,31,32,33,34,35,36,37,38,39,40,41,42,43,44,45,46,47,48,49,50.\n"
     ]
    }
   ],
   "source": [
    "jobs = []\n",
    "i = 0\n",
    "print(\"Index:\",end=\" \")\n",
    "for url in urls:\n",
    "    print(i,end=\",\")\n",
    "    page = render_html(url)\n",
    "    try:\n",
    "        h1 = page.find(\"section\",class_=\"vacancies-detail\").find(\"h1\")\n",
    "        title = h1.get_text().strip()\n",
    "    except: title = nan\n",
    "    items = {}\n",
    "    for key in [\"date\",\"city\",\"salary\",\"hours\"]:\n",
    "        try: value = page.find(\"span\",class_=key).get_text().strip()\n",
    "        except: value = nan\n",
    "        items.update({key:value})\n",
    "    job = {\n",
    "        'Link': url,\n",
    "        'Active Form': items['date'],\n",
    "        'Region': items['city'],\n",
    "        'Wage': items['salary'],\n",
    "        'Hours': items['hours'],\n",
    "        'Title': title\n",
    "    }\n",
    "    jobs.append(job)\n",
    "    i += 1\n",
    "print(\"\\b.\")"
   ]
  },
  {
   "cell_type": "code",
   "execution_count": 52,
   "id": "40e75df6-67c7-4ccf-97ed-d93590017129",
   "metadata": {},
   "outputs": [],
   "source": [
    "import pandas as pd\n",
    "\n",
    "df = pd.DataFrame(jobs)\n",
    "df.to_excel(\"sbaflex.xlsx\",index=False,encoding=\"utf-8\")"
   ]
  },
  {
   "cell_type": "code",
   "execution_count": null,
   "id": "286305ec-3d9e-4dcc-aba7-4dc858ddaf46",
   "metadata": {},
   "outputs": [],
   "source": []
  }
 ],
 "metadata": {
  "kernelspec": {
   "display_name": "Python 3 (ipykernel)",
   "language": "python",
   "name": "python3"
  },
  "language_info": {
   "codemirror_mode": {
    "name": "ipython",
    "version": 3
   },
   "file_extension": ".py",
   "mimetype": "text/x-python",
   "name": "python",
   "nbconvert_exporter": "python",
   "pygments_lexer": "ipython3",
   "version": "3.9.10"
  }
 },
 "nbformat": 4,
 "nbformat_minor": 5
}

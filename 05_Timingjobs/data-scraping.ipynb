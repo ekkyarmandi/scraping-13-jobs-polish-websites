{
 "cells": [
  {
   "cell_type": "code",
   "execution_count": 90,
   "id": "ae31d75b-04b6-46df-8c95-5db79325dd51",
   "metadata": {},
   "outputs": [],
   "source": [
    "import requests\n",
    "from datetime import datetime\n",
    "from bs4 import BeautifulSoup\n",
    "from math import nan\n",
    "import json, re, os, time\n",
    "\n",
    "from selenium.webdriver import Chrome\n",
    "import chromedriver_binary\n",
    "\n",
    "headers = {\"user-agent\":\"Mozilla/5.0 (Windows NT 10.0; Win64; x64) AppleWebKit/537.36 (KHTML, like Gecko) Chrome/98.0.4758.82 Safari/537.36\"}\n",
    "\n",
    "def render_html(url):\n",
    "    req = requests.get(url,headers=headers)\n",
    "    return BeautifulSoup(req.text,\"html.parser\")"
   ]
  },
  {
   "cell_type": "code",
   "execution_count": 91,
   "id": "0971c2f2-9f74-4305-acb2-892febb2c47a",
   "metadata": {},
   "outputs": [],
   "source": [
    "url = \"https://timingjobs.pl/\"\n",
    "page = render_html(url)"
   ]
  },
  {
   "cell_type": "code",
   "execution_count": 92,
   "id": "c40faf89-415e-432e-ab48-678ba3ddd49a",
   "metadata": {},
   "outputs": [
    {
     "name": "stdout",
     "output_type": "stream",
     "text": [
      "1,2,3,4,5,6.\n"
     ]
    }
   ],
   "source": [
    "containers = []\n",
    "for i in range(1,7):\n",
    "    url = \"https://timingjobs.pl/jm-ajax/get_listings/\"\n",
    "    payload = {\n",
    "        \"lang\": \"\",\n",
    "        \"search_categories\": \"\",\n",
    "        \"search_keywords\": \"\",\n",
    "        \"search_location\": \"\",\n",
    "        \"filter_post_status\": \"publish\",\n",
    "        \"per_page\": 6,\n",
    "        \"orderby\": \"featured\",\n",
    "        \"order\": \"desc\",\n",
    "        \"page\": i,\n",
    "        \"show_pagination\": False,\n",
    "    }\n",
    "    data = requests.post(url,headers=headers,data=json.dumps(payload)).json()\n",
    "    li_s = data['html']    \n",
    "    containers.append(li_s)\n",
    "    print(i,end=\",\")\n",
    "print(\"\\b.\")"
   ]
  },
  {
   "cell_type": "code",
   "execution_count": 93,
   "id": "c385dd17-2f30-456b-a943-fc9db9455791",
   "metadata": {},
   "outputs": [],
   "source": [
    "jobs = []\n",
    "for container in containers:\n",
    "    tag = BeautifulSoup(container.strip(),\"html.parser\")\n",
    "    for li in tag.find_all(\"li\",class_=\"job_listing\"):\n",
    "        link = li.find(\"a\")['href']\n",
    "        title = li['data-title']\n",
    "        company = li.find(\"img\")['alt']\n",
    "        location = li.find(\"div\",{\"class\":\"location\"}).get_text().strip()\n",
    "        wage = li.find(\"li\",{\"class\":\"job-type\"}).get_text().strip()\n",
    "        date = li.find(\"time\")['datetime']\n",
    "        job = {\n",
    "            \"Link\": link,\n",
    "            \"Title\": title,\n",
    "            \"Company\": company,\n",
    "            \"Location\": location,\n",
    "            \"Wage\": wage,\n",
    "            \"Date\": date,\n",
    "        }\n",
    "        jobs.append(job)"
   ]
  },
  {
   "cell_type": "code",
   "execution_count": null,
   "id": "97391710-b512-4b7c-a75e-18ccfa747555",
   "metadata": {},
   "outputs": [],
   "source": [
    "jobs"
   ]
  },
  {
   "cell_type": "code",
   "execution_count": null,
   "id": "a693d668-0fc6-4fa8-9cf3-53a4090c90dd",
   "metadata": {},
   "outputs": [],
   "source": []
  }
 ],
 "metadata": {
  "kernelspec": {
   "display_name": "Python 3 (ipykernel)",
   "language": "python",
   "name": "python3"
  },
  "language_info": {
   "codemirror_mode": {
    "name": "ipython",
    "version": 3
   },
   "file_extension": ".py",
   "mimetype": "text/x-python",
   "name": "python",
   "nbconvert_exporter": "python",
   "pygments_lexer": "ipython3",
   "version": "3.9.10"
  }
 },
 "nbformat": 4,
 "nbformat_minor": 5
}

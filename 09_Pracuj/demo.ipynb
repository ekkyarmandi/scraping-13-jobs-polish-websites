{
 "cells": [
  {
   "cell_type": "code",
   "execution_count": 5,
   "id": "d466c90a-df23-4e4e-92e5-0e580b841db1",
   "metadata": {},
   "outputs": [],
   "source": [
    "import requests\n",
    "from pprint import pprint\n",
    "from datetime import datetime\n",
    "from bs4 import BeautifulSoup\n",
    "from math import nan, ceil\n",
    "import json, re, os\n",
    "\n",
    "headers = {\"user-agent\":\"Mozilla/5.0 (Windows NT 10.0; Win64; x64) AppleWebKit/537.36 (KHTML, like Gecko) Chrome/98.0.4758.82 Safari/537.36\"}\n",
    "\n",
    "def render_html(url):\n",
    "    req = requests.get(url,headers=headers)\n",
    "    page = BeautifulSoup(req.text,\"html.parser\")\n",
    "    return page"
   ]
  },
  {
   "cell_type": "code",
   "execution_count": 8,
   "id": "2af0a54e-c127-4fa7-b5bc-a5e2bfc52ecd",
   "metadata": {},
   "outputs": [],
   "source": [
    "url = \"https://pracuj.nl/oferty-pracy/-/-/-/10/0/title/-/\"\n",
    "page = render_html(url)"
   ]
  },
  {
   "cell_type": "code",
   "execution_count": 7,
   "id": "4eebded2-ba81-4255-89ae-ff68102d2b77",
   "metadata": {},
   "outputs": [
    {
     "data": {
      "text/plain": [
       "2022"
      ]
     },
     "execution_count": 7,
     "metadata": {},
     "output_type": "execute_result"
    }
   ],
   "source": [
    "curr_year = datetime.now().year\n",
    "curr_year"
   ]
  },
  {
   "cell_type": "code",
   "execution_count": null,
   "id": "3ca8ca99-7fc1-4519-b2f7-392cf5c6ceec",
   "metadata": {},
   "outputs": [],
   "source": [
    "data = page.find(\"data\",class_=\"json-data\")\n",
    "data = json.loads(data['value'])\n",
    "for tag in data:\n",
    "    link = tag['post_url']\n",
    "    title = tag['post_title']\n",
    "    location = tag['city_name']\n",
    "    salary = tag['payment']\n",
    "    date = tag['date_publish']\n",
    "    publish_date = date.split(\" \")[0]\n",
    "    publish_date = datetime.strptime(publish_date,\"%Y-%m-%d\")\n",
    "    year = publish_date.year\n",
    "    job = {\n",
    "        \"Link\": link,\n",
    "        \"Title\": title,\n",
    "        \"Location\": location,\n",
    "        \"Salary\": salary,\n",
    "        \"Posting Time\": date,\n",
    "    }\n",
    "    print(\"-\"*150)\n",
    "    print(year)\n",
    "    print(\"-\"*150)\n",
    "    print(tag)\n",
    "print(\"-\"*150)"
   ]
  },
  {
   "cell_type": "code",
   "execution_count": 46,
   "id": "a1e0d384-68d2-4bd4-afe6-efdf91b097da",
   "metadata": {},
   "outputs": [
    {
     "data": {
      "text/plain": [
       "<Response [200]>"
      ]
     },
     "execution_count": 46,
     "metadata": {},
     "output_type": "execute_result"
    }
   ],
   "source": [
    "url = \"https://pracuj.nl/oferty-pracy/-/-/-/10/0/title/-/\"\n",
    "req = requests.get(url,headers=headers)\n",
    "req"
   ]
  },
  {
   "cell_type": "code",
   "execution_count": 85,
   "id": "ab9e208e-269a-40ed-bfef-db707cdc7cfd",
   "metadata": {},
   "outputs": [
    {
     "name": "stdout",
     "output_type": "stream",
     "text": [
      "<Response [400]>\n"
     ]
    }
   ],
   "source": [
    "with requests.Session() as session:\n",
    "    url = \"https://pracuj.nl/oferty-pracy/-/-/-/10/0/title/-/\"\n",
    "    req = session.get(url,headers=headers)\n",
    "    \n",
    "    url = \"https://pracuj.nl/wp-admin/admin-ajax.php\"\n",
    "    headers = {\n",
    "        \"user-agent\":\"Mozilla/5.0 (Windows NT 10.0; Win64; x64) AppleWebKit/537.36 (KHTML, like Gecko) Chrome/98.0.4758.82 Safari/537.36\",\n",
    "        \"x-requested-with\":\"XMLHttpRequest\"\n",
    "    }\n",
    "    payload = {\n",
    "        \"action\": \"search_result_json_next\",\n",
    "        \"security\": \"ab0fa2b6ae\",\n",
    "        \"mode\": \"normal\",\n",
    "        \"page\": \"1\",\n",
    "        \"url\": \"https://pracuj.nl/oferty-pracy/-/-/-/10/0/title/-//\"\n",
    "    }\n",
    "    cookies = {\n",
    "        \"cookielawinfo-checkbox-necessary\": \"yes\",\n",
    "        \"cookielawinfo-checkbox-non-necessary\": \"yes\",\n",
    "        \"CookieLawInfoConsent\": \"eyJuZWNlc3NhcnkiOnRydWUsIm5vbi1uZWNlc3NhcnkiOnRydWV9\",\n",
    "        \"viewed_cookie_policy\": \"yes\",\n",
    "        \"last_offer\": \"20314\"\n",
    "    }\n",
    "    req = session.post(\n",
    "        url,\n",
    "        headers=headers,\n",
    "        cookies=cookies,\n",
    "        data=json.dumps(payload)\n",
    "    )\n",
    "    print(req)"
   ]
  },
  {
   "cell_type": "code",
   "execution_count": 86,
   "id": "c5f47c03-77dc-4a87-94bd-a9a7e06024f8",
   "metadata": {},
   "outputs": [
    {
     "data": {
      "text/plain": [
       "<Response [400]>"
      ]
     },
     "execution_count": 86,
     "metadata": {},
     "output_type": "execute_result"
    }
   ],
   "source": [
    "url = \"https://pracuj.nl/wp-admin/admin-ajax.php\"\n",
    "\n",
    "headers = {\n",
    "    \"user-agent\":\"Mozilla/5.0 (Windows NT 10.0; Win64; x64) AppleWebKit/537.36 (KHTML, like Gecko) Chrome/98.0.4758.82 Safari/537.36\",\n",
    "    \"x-requested-with\":\"XMLHttpRequest\"\n",
    "}\n",
    "\n",
    "payload = {\n",
    "    \"action\": \"search_result_json_next\",\n",
    "    \"security\": \"ab0fa2b6ae\",\n",
    "    \"mode\": \"normal\",\n",
    "    \"page\": \"1\",\n",
    "    \"url\": \"https://pracuj.nl/oferty-pracy/-/-/-/10/0/title/-//\"\n",
    "}\n",
    "\n",
    "cookies = {\n",
    "    \"cookielawinfo-checkbox-necessary\": \"yes\",\n",
    "    \"cookielawinfo-checkbox-non-necessary\": \"yes\",\n",
    "    \"CookieLawInfoConsent\": \"eyJuZWNlc3NhcnkiOnRydWUsIm5vbi1uZWNlc3NhcnkiOnRydWV9\",\n",
    "    \"viewed_cookie_policy\": \"yes\",\n",
    "    \"last_offer\": \"20314\"\n",
    "}\n",
    "\n",
    "req = requests.post(\n",
    "    url,\n",
    "    headers=headers,\n",
    "    cookies=cookies,\n",
    "    data=json.dumps(payload)\n",
    ")\n",
    "\n",
    "req"
   ]
  },
  {
   "cell_type": "code",
   "execution_count": 95,
   "id": "fb017d2e-1c1e-47d6-96ff-00ed04ca6f20",
   "metadata": {},
   "outputs": [
    {
     "data": {
      "text/plain": [
       "<Response [200]>"
      ]
     },
     "execution_count": 95,
     "metadata": {},
     "output_type": "execute_result"
    }
   ],
   "source": [
    "url = \"https://pracuj.nl/oferty-pracy/-/-/-/10/0/title/-/\" # action=search_result_json_next&security=ab0fa2b6ae&mode=normal&page=1&url=https://pracuj.nl/oferty-pracy/-/-/-/10/0/title/-//\"\n",
    "req = requests.post(url,headers=headers)\n",
    "req"
   ]
  },
  {
   "cell_type": "code",
   "execution_count": null,
   "id": "b9012e9f-68fd-49f3-b179-ca6980554df5",
   "metadata": {},
   "outputs": [],
   "source": []
  },
  {
   "cell_type": "code",
   "execution_count": null,
   "id": "89e46ad9-7260-4459-9a5f-3b88858a22dc",
   "metadata": {},
   "outputs": [],
   "source": [
    "import pandas as pd\n",
    "\n",
    "df = pd.DataFrame(jobs)\n",
    "df.to_excel(\"pracuj.xlsx\",index=False,encoding=\"utf-8\")"
   ]
  }
 ],
 "metadata": {
  "kernelspec": {
   "display_name": "Python 3 (ipykernel)",
   "language": "python",
   "name": "python3"
  },
  "language_info": {
   "codemirror_mode": {
    "name": "ipython",
    "version": 3
   },
   "file_extension": ".py",
   "mimetype": "text/x-python",
   "name": "python",
   "nbconvert_exporter": "python",
   "pygments_lexer": "ipython3",
   "version": "3.9.10"
  }
 },
 "nbformat": 4,
 "nbformat_minor": 5
}

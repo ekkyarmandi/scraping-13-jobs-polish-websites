{
 "cells": [
  {
   "cell_type": "code",
   "execution_count": 63,
   "id": "cbb59b55-7ef4-47d6-8cbe-69ff827ca617",
   "metadata": {},
   "outputs": [],
   "source": [
    "import requests\n",
    "from datetime import datetime\n",
    "from bs4 import BeautifulSoup\n",
    "from math import nan\n",
    "import json, re, os\n",
    "\n",
    "headers = {\"user-agent\":\"Mozilla/5.0 (Windows NT 10.0; Win64; x64) AppleWebKit/537.36 (KHTML, like Gecko) Chrome/98.0.4758.82 Safari/537.36\"}\n",
    "\n",
    "def render_html(url):\n",
    "    req = requests.get(url,headers=headers)\n",
    "    return BeautifulSoup(req.text,\"html.parser\")"
   ]
  },
  {
   "cell_type": "code",
   "execution_count": 64,
   "id": "1ef26f95-4b6d-4e7b-bd7b-1597914b4026",
   "metadata": {},
   "outputs": [],
   "source": [
    "def get_max(page):\n",
    "    pagination = page.find(\"div\",id=\"pagination\")\n",
    "    numbers = []\n",
    "    for tag in pagination.find_all(\"a\",class_=\"page-numbers\"):\n",
    "        try:\n",
    "            number = int(tag.get_text())\n",
    "            numbers.append(number)\n",
    "        except: pass\n",
    "    max_page = max(numbers)\n",
    "    return max_page"
   ]
  },
  {
   "cell_type": "code",
   "execution_count": 74,
   "id": "994624e3-7188-4ef8-93de-9a50304bf0f8",
   "metadata": {},
   "outputs": [],
   "source": [
    "def get_jobs(url,include=None):\n",
    "    jobs = []\n",
    "    page = render_html(url)\n",
    "    for a in page.find_all(\"a\",class_=[\"job-block\",\"d-block\"]):\n",
    "        try:\n",
    "            try: link = a['data-url']\n",
    "            except: link = nan\n",
    "            try: title = a['data-title']\n",
    "            except: title = nan\n",
    "            try: city = a['data-location']\n",
    "            except: city = nan\n",
    "            try: wage = a.find(\"span\").find_next(\"span\").get_text().strip()\n",
    "            except: wage = nan\n",
    "            try: hours = a['data-hours']\n",
    "            except: hours = nan\n",
    "            try: type_ = a['data-industry']\n",
    "            except: type_ = nan\n",
    "            job = {\n",
    "                \"Link\": link,\n",
    "                \"Title\": title,\n",
    "                \"City\": city,\n",
    "                \"Wage\": wage,\n",
    "                \"Hours\": hours,\n",
    "                \"Type\": type_\n",
    "            }\n",
    "            jobs.append(job)\n",
    "        except: pass    \n",
    "    if include == \"max_page\":\n",
    "        max_page = get_max(page)\n",
    "        return jobs, max_page\n",
    "    else:\n",
    "        return jobs"
   ]
  },
  {
   "cell_type": "code",
   "execution_count": 47,
   "id": "77ef5d58-a706-41e9-bc33-3387c7ca6284",
   "metadata": {},
   "outputs": [],
   "source": [
    "url = \"https://www.covebo.pl/oferty-pracy/?_page=1\"\n",
    "page = render_html(url)"
   ]
  },
  {
   "cell_type": "code",
   "execution_count": null,
   "id": "33b9b5a1-284f-4b1c-bb1e-d7d5094d15f6",
   "metadata": {},
   "outputs": [],
   "source": [
    "# for a in page.find_all(\"a\",class_=[\"job-block\",\"d-block\"]):\n",
    "#     try:\n",
    "#         link = a['data-url']\n",
    "#         title = a['data-title']\n",
    "#         city = a['data-location']\n",
    "#         wage = a.find(\"span\").find_next(\"span\").get_text().strip()\n",
    "#         hours = a['data-hours']\n",
    "#         type_ = a['data-industry']\n",
    "#         job = {\n",
    "#             \"Link\": link,\n",
    "#             \"Title\": title,\n",
    "#             \"City\": city,\n",
    "#             \"Wage\": wage,\n",
    "#             \"Hours\": hours,\n",
    "#             \"Type\": type_\n",
    "#         }\n",
    "#         print(job)\n",
    "#         print(\"-\"*150)\n",
    "#     except:\n",
    "#         print(a)\n",
    "#         print(\"-\"*150)\n",
    "#     # print(a,\"\\n\")"
   ]
  },
  {
   "cell_type": "code",
   "execution_count": null,
   "id": "a6a9e92a-9af8-44da-9baf-1bcedc7de629",
   "metadata": {},
   "outputs": [],
   "source": [
    "# pagination = page.find(\"div\",id=\"pagination\")\n",
    "# numbers = []\n",
    "# for tag in pagination.find_all(\"a\",class_=\"page-numbers\"):\n",
    "#     try:\n",
    "#         number = int(tag.get_text())\n",
    "#         numbers.append(number)\n",
    "#     except: pass\n",
    "\n",
    "# max_page = max(numbers)\n",
    "# max_page"
   ]
  },
  {
   "cell_type": "code",
   "execution_count": 75,
   "id": "85402f46-61bf-45e9-885a-716cf63e602f",
   "metadata": {},
   "outputs": [
    {
     "name": "stdout",
     "output_type": "stream",
     "text": [
      "2/32,3/48,4/64,5/80,6/96,7/112,8/128,9/144,10/160,11/176,12/192,13/208,14/224,15/240,16/256,17/272,18/288.\n"
     ]
    }
   ],
   "source": [
    "url = \"https://www.covebo.pl/oferty-pracy/?_page=1\"\n",
    "jobs, max_page = get_jobs(url,include=\"max_page\")\n",
    "for i in range(2,max_page+1):\n",
    "    url = f\"https://www.covebo.pl/oferty-pracy/?_page={i}\"\n",
    "    new_jobs = get_jobs(url)\n",
    "    jobs.extend(new_jobs)\n",
    "    print(f\"{i}/{len(jobs)}\",end=\",\")\n",
    "print(\"\\b.\")"
   ]
  },
  {
   "cell_type": "code",
   "execution_count": null,
   "id": "e4191444-dfbd-4bcf-b39c-54a1c415bf52",
   "metadata": {},
   "outputs": [],
   "source": [
    "jobs"
   ]
  },
  {
   "cell_type": "code",
   "execution_count": 81,
   "id": "3f0519ee-3a21-4dd8-ab0c-b46ad467c6d1",
   "metadata": {},
   "outputs": [],
   "source": [
    "import pandas as pd\n",
    "\n",
    "df = pd.DataFrame(jobs)\n",
    "df = df.dropna()\n",
    "df.to_excel(\"example.xlsx\",sheet_name=\"First\",index=False,encoding=\"utf-8\")"
   ]
  },
  {
   "cell_type": "code",
   "execution_count": null,
   "id": "a0272df1-20bb-4209-8ccd-185d606adf08",
   "metadata": {},
   "outputs": [],
   "source": []
  }
 ],
 "metadata": {
  "kernelspec": {
   "display_name": "Python 3 (ipykernel)",
   "language": "python",
   "name": "python3"
  },
  "language_info": {
   "codemirror_mode": {
    "name": "ipython",
    "version": 3
   },
   "file_extension": ".py",
   "mimetype": "text/x-python",
   "name": "python",
   "nbconvert_exporter": "python",
   "pygments_lexer": "ipython3",
   "version": "3.9.10"
  }
 },
 "nbformat": 4,
 "nbformat_minor": 5
}

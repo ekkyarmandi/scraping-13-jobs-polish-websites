{
 "cells": [
  {
   "cell_type": "code",
   "execution_count": 63,
   "id": "lightweight-placement",
   "metadata": {},
   "outputs": [],
   "source": [
    "import requests\n",
    "from datetime import datetime\n",
    "from bs4 import BeautifulSoup\n",
    "from math import nan\n",
    "import json, re, os\n",
    "\n",
    "headers = {\"user-agent\":\"Mozilla/5.0 (Windows NT 10.0; Win64; x64) AppleWebKit/537.36 (KHTML, like Gecko) Chrome/98.0.4758.82 Safari/537.36\"}\n",
    "\n",
    "def render_html(url):\n",
    "    req = requests.get(url,headers=headers)\n",
    "    return BeautifulSoup(req.text,\"html.parser\")"
   ]
  },
  {
   "cell_type": "code",
   "execution_count": 64,
   "id": "hazardous-interference",
   "metadata": {},
   "outputs": [],
   "source": [
    "def get_max(page):\n",
    "    pagination = page.find(\"div\",id=\"pagination\")\n",
    "    numbers = []\n",
    "    for tag in pagination.find_all(\"a\",class_=\"page-numbers\"):\n",
    "        try:\n",
    "            number = int(tag.get_text())\n",
    "            numbers.append(number)\n",
    "        except: pass\n",
    "    max_page = max(numbers)\n",
    "    return max_page"
   ]
  },
  {
   "cell_type": "code",
   "execution_count": 74,
   "id": "accessory-rocket",
   "metadata": {},
   "outputs": [],
   "source": [
    "def get_jobs(url,include=None):\n",
    "    jobs = []\n",
    "    page = render_html(url)\n",
    "    for a in page.find_all(\"a\",class_=[\"job-block\",\"d-block\"]):\n",
    "        try:\n",
    "            try: link = a['data-url']\n",
    "            except: link = nan\n",
    "            try: title = a['data-title']\n",
    "            except: title = nan\n",
    "            try: city = a['data-location']\n",
    "            except: city = nan\n",
    "            try: wage = a.find(\"span\").find_next(\"span\").get_text().strip()\n",
    "            except: wage = nan\n",
    "            try: hours = a['data-hours']\n",
    "            except: hours = nan\n",
    "            try: type_ = a['data-industry']\n",
    "            except: type_ = nan\n",
    "            job = {\n",
    "                \"Link\": link,\n",
    "                \"Title\": title,\n",
    "                \"City\": city,\n",
    "                \"Wage\": wage,\n",
    "                \"Hours\": hours,\n",
    "                \"Type\": type_\n",
    "            }\n",
    "            jobs.append(job)\n",
    "        except: pass    \n",
    "    if include == \"max_page\":\n",
    "        max_page = get_max(page)\n",
    "        return jobs, max_page\n",
    "    else:\n",
    "        return jobs"
   ]
  },
  {
   "cell_type": "code",
   "execution_count": 47,
   "id": "handled-exhaust",
   "metadata": {},
   "outputs": [],
   "source": [
    "url = \"https://www.covebo.pl/oferty-pracy/?_page=1\"\n",
    "page = render_html(url)"
   ]
  },
  {
   "cell_type": "code",
   "execution_count": null,
   "id": "special-finance",
   "metadata": {},
   "outputs": [],
   "source": [
    "# for a in page.find_all(\"a\",class_=[\"job-block\",\"d-block\"]):\n",
    "#     try:\n",
    "#         link = a['data-url']\n",
    "#         title = a['data-title']\n",
    "#         city = a['data-location']\n",
    "#         wage = a.find(\"span\").find_next(\"span\").get_text().strip()\n",
    "#         hours = a['data-hours']\n",
    "#         type_ = a['data-industry']\n",
    "#         job = {\n",
    "#             \"Link\": link,\n",
    "#             \"Title\": title,\n",
    "#             \"City\": city,\n",
    "#             \"Wage\": wage,\n",
    "#             \"Hours\": hours,\n",
    "#             \"Type\": type_\n",
    "#         }\n",
    "#         print(job)\n",
    "#         print(\"-\"*150)\n",
    "#     except:\n",
    "#         print(a)\n",
    "#         print(\"-\"*150)\n",
    "#     # print(a,\"\\n\")"
   ]
  },
  {
   "cell_type": "code",
   "execution_count": null,
   "id": "reasonable-vegetation",
   "metadata": {},
   "outputs": [],
   "source": [
    "# pagination = page.find(\"div\",id=\"pagination\")\n",
    "# numbers = []\n",
    "# for tag in pagination.find_all(\"a\",class_=\"page-numbers\"):\n",
    "#     try:\n",
    "#         number = int(tag.get_text())\n",
    "#         numbers.append(number)\n",
    "#     except: pass\n",
    "\n",
    "# max_page = max(numbers)\n",
    "# max_page"
   ]
  },
  {
   "cell_type": "code",
   "execution_count": 75,
   "id": "proved-orange",
   "metadata": {},
   "outputs": [
    {
     "name": "stdout",
     "output_type": "stream",
     "text": [
      "2/32,3/48,4/64,5/80,6/96,7/112,8/128,9/144,10/160,11/176,12/192,13/208,14/224,15/240,16/256,17/272,18/288.\n"
     ]
    }
   ],
   "source": [
    "url = \"https://www.covebo.pl/oferty-pracy/?_page=1\"\n",
    "jobs, max_page = get_jobs(url,include=\"max_page\")\n",
    "for i in range(2,max_page+1):\n",
    "    url = f\"https://www.covebo.pl/oferty-pracy/?_page={i}\"\n",
    "    new_jobs = get_jobs(url)\n",
    "    jobs.extend(new_jobs)\n",
    "    print(f\"{i}/{len(jobs)}\",end=\",\")\n",
    "print(\"\\b.\")"
   ]
  },
  {
   "cell_type": "code",
   "execution_count": null,
   "id": "veterinary-garbage",
   "metadata": {},
   "outputs": [],
   "source": [
    "jobs"
   ]
  },
  {
   "cell_type": "code",
   "execution_count": 81,
   "id": "third-dubai",
   "metadata": {},
   "outputs": [],
   "source": [
    "import pandas as pd\n",
    "\n",
    "df = pd.DataFrame(jobs)\n",
    "df = df.dropna()\n",
    "df.to_excel(\"example.xlsx\",sheet_name=\"First\",index=False,encoding=\"utf-8\")"
   ]
  },
  {
   "cell_type": "code",
   "execution_count": null,
   "id": "physical-shield",
   "metadata": {},
   "outputs": [],
   "source": []
  }
 ],
 "metadata": {
  "kernelspec": {
   "display_name": "Python 3",
   "language": "python",
   "name": "python3"
  },
  "language_info": {
   "codemirror_mode": {
    "name": "ipython",
    "version": 3
   },
   "file_extension": ".py",
   "mimetype": "text/x-python",
   "name": "python",
   "nbconvert_exporter": "python",
   "pygments_lexer": "ipython3",
   "version": "3.8.7"
  }
 },
 "nbformat": 4,
 "nbformat_minor": 5
}

{
 "cells": [
  {
   "cell_type": "code",
   "execution_count": 3,
   "id": "funky-circus",
   "metadata": {},
   "outputs": [],
   "source": [
    "import requests\n",
    "from datetime import datetime\n",
    "from bs4 import BeautifulSoup\n",
    "from math import nan\n",
    "import json, re, os\n",
    "\n",
    "headers = {\"user-agent\":\"Mozilla/5.0 (Windows NT 10.0; Win64; x64) AppleWebKit/537.36 (KHTML, like Gecko) Chrome/98.0.4758.82 Safari/537.36\"}\n",
    "\n",
    "def render_html(url):\n",
    "    req = requests.get(url,headers=headers)\n",
    "    return BeautifulSoup(req.text,\"html.parser\")\n",
    "\n",
    "def get_max(page):\n",
    "    pagination = page.find(\"div\",id=\"pagination\")\n",
    "    numbers = []\n",
    "    for tag in pagination.find_all(\"a\",class_=\"page-numbers\"):\n",
    "        try:\n",
    "            number = int(tag.get_text())\n",
    "            numbers.append(number)\n",
    "        except: pass\n",
    "    max_page = max(numbers)\n",
    "    return max_page\n",
    "\n",
    "def get_jobs(url,include=None):\n",
    "    jobs = []\n",
    "    page = render_html(url)\n",
    "    for a in page.find_all(\"a\",class_=[\"job-block\",\"d-block\"]):\n",
    "        try:\n",
    "            try: link = a['data-url']\n",
    "            except: link = nan\n",
    "            try: title = a['data-title']\n",
    "            except: title = nan\n",
    "            try: city = a['data-location']\n",
    "            except: city = nan\n",
    "            try: wage = a.find(\"p\").find_next(\"p\").get_text()\n",
    "            except: wage = nan\n",
    "            try: hours = a['data-hours']\n",
    "            except: hours = nan\n",
    "            try: type_ = a['data-industry']\n",
    "            except: type_ = nan\n",
    "            job = {\n",
    "                \"Link\": link,\n",
    "                \"Title\": title,\n",
    "                \"City\": city,\n",
    "                \"Wage\": wage,\n",
    "                \"Hours\": hours,\n",
    "                \"Type\": type_\n",
    "            }\n",
    "            jobs.append(job)\n",
    "        except: pass\n",
    "    if include == \"max_page\":\n",
    "        max_page = get_max(page)\n",
    "        return jobs, max_page\n",
    "    else:\n",
    "        return jobs"
   ]
  },
  {
   "cell_type": "code",
   "execution_count": 4,
   "id": "included-sponsorship",
   "metadata": {},
   "outputs": [],
   "source": [
    "# url = \"https://www.pran.pl/oferty-pracy/?_page=3\"\n",
    "# page = render_html(url)"
   ]
  },
  {
   "cell_type": "code",
   "execution_count": 5,
   "id": "martial-variety",
   "metadata": {},
   "outputs": [
    {
     "name": "stdout",
     "output_type": "stream",
     "text": [
      "2/18,3/27,4/36,5/45,6/54,7/63,8/72,9/81,10/90,11/99,12/108,13/117,14/126,15/135,16/144,17/152.\n"
     ]
    }
   ],
   "source": [
    "url = \"https://www.pran.pl/oferty-pracy/?_page=1\"\n",
    "jobs, max_page = get_jobs(url,include=\"max_page\")\n",
    "for i in range(2,max_page+1):\n",
    "    url = f\"https://www.pran.pl/oferty-pracy/?_page={i}\"\n",
    "    new_jobs = get_jobs(url)\n",
    "    jobs.extend(new_jobs)\n",
    "    print(f\"{i}/{len(jobs)}\",end=\",\")\n",
    "print(\"\\b.\")"
   ]
  },
  {
   "cell_type": "code",
   "execution_count": 6,
   "id": "distant-coordinator",
   "metadata": {},
   "outputs": [],
   "source": [
    "import pandas as pd\n",
    "\n",
    "df = pd.DataFrame(jobs)\n",
    "df = df.dropna()\n",
    "df.to_excel(\"pran.xlsx\",index=False,encoding=\"utf-8\")"
   ]
  },
  {
   "cell_type": "code",
   "execution_count": null,
   "id": "enclosed-wings",
   "metadata": {},
   "outputs": [],
   "source": []
  }
 ],
 "metadata": {
  "kernelspec": {
   "display_name": "Python 3",
   "language": "python",
   "name": "python3"
  },
  "language_info": {
   "codemirror_mode": {
    "name": "ipython",
    "version": 3
   },
   "file_extension": ".py",
   "mimetype": "text/x-python",
   "name": "python",
   "nbconvert_exporter": "python",
   "pygments_lexer": "ipython3",
   "version": "3.9.10"
  }
 },
 "nbformat": 4,
 "nbformat_minor": 5
}

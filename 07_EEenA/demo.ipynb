{
 "cells": [
  {
   "cell_type": "code",
   "execution_count": 2,
   "id": "dominant-hepatitis",
   "metadata": {},
   "outputs": [],
   "source": [
    "import requests\n",
    "from datetime import datetime\n",
    "from bs4 import BeautifulSoup\n",
    "from math import nan\n",
    "import json, re, os\n",
    "\n",
    "headers = {\"user-agent\":\"Mozilla/5.0 (Windows NT 10.0; Win64; x64) AppleWebKit/537.36 (KHTML, like Gecko) Chrome/98.0.4758.82 Safari/537.36\"}\n",
    "\n",
    "def render_html(url):\n",
    "    req = requests.get(url,headers=headers)\n",
    "    return BeautifulSoup(req.text,\"html.parser\")"
   ]
  },
  {
   "cell_type": "code",
   "execution_count": 23,
   "id": "juvenile-improvement",
   "metadata": {},
   "outputs": [],
   "source": [
    "url = \"https://eena.pl/aktualne-oferty-pracy-w-holandii.html\"\n",
    "with requests.Session() as session:\n",
    "    req = session.get(url,headers=headers)\n",
    "    req = session.get(url,headers=headers)\n",
    "    page = BeautifulSoup(req.text,\"html.parser\")"
   ]
  },
  {
   "cell_type": "code",
   "execution_count": 19,
   "id": "atlantic-quantity",
   "metadata": {},
   "outputs": [],
   "source": [
    "# url = \"https://eena.pl/aktualne-oferty-pracy-w-holandii.html\"\n",
    "# page = render_html(url)"
   ]
  },
  {
   "cell_type": "code",
   "execution_count": 26,
   "id": "restricted-european",
   "metadata": {},
   "outputs": [],
   "source": [
    "for container in page.find_all(\"div\",class_=\"offers-list__content\"):\n",
    "    print(\"🟢\",container,\"\\n\")"
   ]
  },
  {
   "cell_type": "code",
   "execution_count": null,
   "id": "russian-associate",
   "metadata": {},
   "outputs": [],
   "source": []
  },
  {
   "cell_type": "code",
   "execution_count": null,
   "id": "weird-inflation",
   "metadata": {},
   "outputs": [],
   "source": []
  }
 ],
 "metadata": {
  "kernelspec": {
   "display_name": "Python 3",
   "language": "python",
   "name": "python3"
  },
  "language_info": {
   "codemirror_mode": {
    "name": "ipython",
    "version": 3
   },
   "file_extension": ".py",
   "mimetype": "text/x-python",
   "name": "python",
   "nbconvert_exporter": "python",
   "pygments_lexer": "ipython3",
   "version": "3.8.7"
  }
 },
 "nbformat": 4,
 "nbformat_minor": 5
}

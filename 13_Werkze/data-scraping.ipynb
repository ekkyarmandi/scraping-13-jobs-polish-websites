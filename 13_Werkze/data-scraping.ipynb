{
 "cells": [
  {
   "cell_type": "code",
   "execution_count": 1,
   "id": "regional-framing",
   "metadata": {},
   "outputs": [],
   "source": [
    "import requests\n",
    "from bs4 import BeautifulSoup\n",
    "from math import nan\n",
    "import json, re, os\n",
    "\n",
    "headers = {\"user-agent\":\"Mozilla/5.0 (Windows NT 10.0; Win64; x64) AppleWebKit/537.36 (KHTML, like Gecko) Chrome/98.0.4758.82 Safari/537.36\"}\n",
    "\n",
    "def render_html(url):\n",
    "    req = requests.get(url,headers=headers)\n",
    "    return BeautifulSoup(req.text,\"html.parser\")"
   ]
  },
  {
   "cell_type": "code",
   "execution_count": 2,
   "id": "moved-election",
   "metadata": {},
   "outputs": [],
   "source": [
    "# url = \"https://werkze.pl/jobs/48\"\n",
    "# page = render_html(url)"
   ]
  },
  {
   "cell_type": "code",
   "execution_count": 2,
   "id": "ruled-noise",
   "metadata": {
    "tags": []
   },
   "outputs": [
    {
     "name": "stdout",
     "output_type": "stream",
     "text": [
      "1:16|2:32|3:48|4:64|5:80|6:96|7:112|8:128|9:144|10:160|11:176|12:192|13:208|14:224|15:240|16:256|17:272|18:288|19:304|20:320|21:332|end\n"
     ]
    }
   ],
   "source": [
    "# gather all the data\n",
    "max_item = 500\n",
    "i = 16\n",
    "j = 1\n",
    "container = []\n",
    "while len(container) < max_item:\n",
    "    url = \"https://werkze.pl/jobs/\" + str(i)\n",
    "    page = render_html(url)\n",
    "    ul = page.find(\"ul\",class_=\"pages pagination\")\n",
    "    pagination = [li.get_text() for li in ul.find_all(\"li\")]\n",
    "    container.extend(page.find_all(\"div\",class_=\"item\"))\n",
    "    print(f\"{j}:{len(container)}\",end=\"|\")\n",
    "    if pagination[-1] == \">>\" or pagination[-1] == \">\":\n",
    "        i += 16\n",
    "        j += 1\n",
    "    else:\n",
    "        break\n",
    "print(\"end\")"
   ]
  },
  {
   "cell_type": "code",
   "execution_count": 3,
   "id": "anticipated-milton",
   "metadata": {},
   "outputs": [],
   "source": [
    "jobs = []\n",
    "for item in container[:500]:\n",
    "    h5 = item.find(\"h5\")\n",
    "    link = h5.find(\"a\")['href']\n",
    "    title = item.find(\"h4\").get_text().strip()\n",
    "    p = item.find(\"p\")\n",
    "    wage = re.sub(\"\\s+\",\" \",p.get_text())\n",
    "    city = p.find_next(\"p\").get_text().strip()\n",
    "    job = {\n",
    "        \"Link\": link,\n",
    "        \"Title\": title,\n",
    "        \"Wage\": wage,\n",
    "        \"City\": city,\n",
    "    }\n",
    "    jobs.append(job)"
   ]
  },
  {
   "cell_type": "code",
   "execution_count": 4,
   "id": "thick-thriller",
   "metadata": {},
   "outputs": [],
   "source": [
    "import pandas as pd\n",
    "\n",
    "df = pd.DataFrame(jobs)\n",
    "df.to_excel(\"werkze.xlsx\",index=False,encoding=\"utf-8\")"
   ]
  }
 ],
 "metadata": {
  "kernelspec": {
   "display_name": "Python 3",
   "language": "python",
   "name": "python3"
  },
  "language_info": {
   "codemirror_mode": {
    "name": "ipython",
    "version": 3
   },
   "file_extension": ".py",
   "mimetype": "text/x-python",
   "name": "python",
   "nbconvert_exporter": "python",
   "pygments_lexer": "ipython3",
   "version": "3.8.7"
  }
 },
 "nbformat": 4,
 "nbformat_minor": 5
}

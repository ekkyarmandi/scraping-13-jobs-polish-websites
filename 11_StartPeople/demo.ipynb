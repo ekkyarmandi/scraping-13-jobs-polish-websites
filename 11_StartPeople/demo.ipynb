{
 "cells": [
  {
   "cell_type": "code",
   "execution_count": 60,
   "id": "d466c90a-df23-4e4e-92e5-0e580b841db1",
   "metadata": {},
   "outputs": [],
   "source": [
    "import requests\n",
    "from pprint import pprint\n",
    "from bs4 import BeautifulSoup\n",
    "from math import nan, ceil\n",
    "import json, re, os\n",
    "\n",
    "headers = {\"user-agent\":\"Mozilla/5.0 (Windows NT 10.0; Win64; x64) AppleWebKit/537.36 (KHTML, like Gecko) Chrome/98.0.4758.82 Safari/537.36\"}\n",
    "\n",
    "def render_html(url):\n",
    "    req = requests.get(url,headers=headers)\n",
    "    page = BeautifulSoup(req.text,\"html.parser\")\n",
    "    return page\n",
    "\n",
    "def get_max(page):\n",
    "    total = page.find(\"span\",{\"class\":\"vacancies-counter\",\"data-cy\":\"resultCounter\"}).get_text()\n",
    "    total = re.search(\"\\d+\",total).group()\n",
    "    total = ceil(int(total)/10)\n",
    "    return total\n",
    "\n",
    "def get_jobs(url,including=None):\n",
    "    page = render_html(url)\n",
    "    results = page.find(\"div\",id=\"vacancyResults\").find(\"ul\")\n",
    "    ref = \"https://startpeople.nl\"\n",
    "    jobs = []\n",
    "    for li in results.find_all(\"li\",class_=\"vacancy-card\"):\n",
    "        link = ref+li.find(\"a\")['href']\n",
    "        title = li.find(\"h2\",class_=\"vacancy-title\").get_text()\n",
    "        city = li.find(\"span\",class_=\"uc-map-marker\").find_previous().get_text()\n",
    "        hours = li.find(\"span\",class_=\"uc-clock\").find_previous().get_text()\n",
    "        wage = li.find(\"span\",class_=\"uc-euro\").find_previous().get_text()\n",
    "        desc = li.find(\"div\",class_=\"vacancy-description\").get_text().strip()\n",
    "        job = {\n",
    "            \"Link\": link,\n",
    "            \"Title\": title,\n",
    "            \"City\": city,\n",
    "            \"Hours\": hours,\n",
    "            \"Wage\": \"€\"+wage,\n",
    "            \"Description\": desc\n",
    "        }\n",
    "        jobs.append(job)\n",
    "    if including == \"max_page\":\n",
    "        max_page = get_max(page)\n",
    "        return jobs, max_page\n",
    "    else:\n",
    "        return jobs"
   ]
  },
  {
   "cell_type": "code",
   "execution_count": 61,
   "id": "2af0a54e-c127-4fa7-b5bc-a5e2bfc52ecd",
   "metadata": {},
   "outputs": [],
   "source": [
    "url = \"https://startpeople.nl/en/candidate/vacancies\"\n",
    "jobs, max_page = get_jobs(url,including=\"max_page\")\n",
    "for i in range(2,max_page+1):\n",
    "    url = f\"https://startpeople.nl/en/candidate/vacancies?refinementList[language][0]=en&page={i}\"\n",
    "    new_jobs = get_jobs(url)\n",
    "    jobs.extend(new_jobs)"
   ]
  },
  {
   "cell_type": "code",
   "execution_count": null,
   "id": "6de62390-9613-4e32-b47d-9c2995bda59a",
   "metadata": {},
   "outputs": [],
   "source": [
    "# results = page.find(\"div\",id=\"vacancyResults\").find(\"ul\")\n",
    "# ref = \"https://startpeople.nl\"\n",
    "# jobs = []\n",
    "# for li in results.find_all(\"li\",class_=\"vacancy-card\"):\n",
    "#     link = ref+li.find(\"a\")['href']\n",
    "#     title = li.find(\"h2\",class_=\"vacancy-title\").get_text()\n",
    "#     city = li.find(\"span\",class_=\"uc-map-marker\").find_previous().get_text()\n",
    "#     hours = li.find(\"span\",class_=\"uc-clock\").find_previous().get_text()\n",
    "#     wage = li.find(\"span\",class_=\"uc-euro\").find_previous().get_text()\n",
    "#     desc = li.find(\"div\",class_=\"vacancy-description\").get_text().strip()\n",
    "#     job = {\n",
    "#         \"Link\": link,\n",
    "#         \"Title\": title,\n",
    "#         \"City\": city,\n",
    "#         \"Hours\": hours,\n",
    "#         \"Wage\": \"€\"+wage,\n",
    "#         \"Description\": desc\n",
    "#     }\n",
    "#     jobs.append(job)\n",
    "    # print(\"-\"*100)\n",
    "    # pprint(job,sort_dicts=False)\n",
    "    # print(\"-\"*100)\n",
    "    # print(li)"
   ]
  },
  {
   "cell_type": "code",
   "execution_count": 62,
   "id": "86791430-32b0-467b-bc8f-aaaddd06a9ae",
   "metadata": {},
   "outputs": [],
   "source": [
    "import pandas as pd\n",
    "\n",
    "df = pd.DataFrame(jobs)\n",
    "df.to_excel(\"startpeople.xlsx\",index=False,encoding=\"utf-8\")"
   ]
  },
  {
   "cell_type": "code",
   "execution_count": null,
   "id": "9a09bbe1-0226-42e6-b357-08493ac04cca",
   "metadata": {},
   "outputs": [],
   "source": []
  }
 ],
 "metadata": {
  "kernelspec": {
   "display_name": "Python 3 (ipykernel)",
   "language": "python",
   "name": "python3"
  },
  "language_info": {
   "codemirror_mode": {
    "name": "ipython",
    "version": 3
   },
   "file_extension": ".py",
   "mimetype": "text/x-python",
   "name": "python",
   "nbconvert_exporter": "python",
   "pygments_lexer": "ipython3",
   "version": "3.9.10"
  }
 },
 "nbformat": 4,
 "nbformat_minor": 5
}

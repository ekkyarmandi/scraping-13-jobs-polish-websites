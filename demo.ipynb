{
 "cells": [
  {
   "cell_type": "code",
   "execution_count": 19,
   "id": "d466c90a-df23-4e4e-92e5-0e580b841db1",
   "metadata": {},
   "outputs": [],
   "source": [
    "import pandas as pd\n",
    "from openpyxl import load_workbook\n",
    "\n",
    "wb = load_workbook(\"results.xlsx\")"
   ]
  },
  {
   "cell_type": "code",
   "execution_count": 21,
   "id": "6de62390-9613-4e32-b47d-9c2995bda59a",
   "metadata": {},
   "outputs": [],
   "source": [
    "writer = pd.ExcelWriter(\"new_results.xlsx\")\n",
    "for name in wb.sheetnames:\n",
    "    df = pd.read_excel(\"results.xlsx\",sheet_name=name)\n",
    "    df = df.drop_duplicates(subset=\"Link\")\n",
    "    if df.shape[0] > 500:\n",
    "        df = df.loc[0:500]\n",
    "    df.to_excel(\n",
    "        writer,\n",
    "        sheet_name = name,\n",
    "        index = False,\n",
    "        encoding = \"utf-8\"\n",
    "    )\n",
    "writer.save()"
   ]
  },
  {
   "cell_type": "code",
   "execution_count": null,
   "id": "0d4e8474-5aa4-4224-bec5-72cd8cd084e8",
   "metadata": {},
   "outputs": [],
   "source": []
  },
  {
   "cell_type": "code",
   "execution_count": null,
   "id": "23ab0f85-3905-4c0f-b65d-3904dacb30e1",
   "metadata": {},
   "outputs": [],
   "source": []
  }
 ],
 "metadata": {
  "kernelspec": {
   "display_name": "Python 3 (ipykernel)",
   "language": "python",
   "name": "python3"
  },
  "language_info": {
   "codemirror_mode": {
    "name": "ipython",
    "version": 3
   },
   "file_extension": ".py",
   "mimetype": "text/x-python",
   "name": "python",
   "nbconvert_exporter": "python",
   "pygments_lexer": "ipython3",
   "version": "3.9.10"
  }
 },
 "nbformat": 4,
 "nbformat_minor": 5
}

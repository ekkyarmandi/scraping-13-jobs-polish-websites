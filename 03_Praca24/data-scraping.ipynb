{
 "cells": [
  {
   "cell_type": "code",
   "execution_count": 1,
   "id": "uniform-archives",
   "metadata": {},
   "outputs": [],
   "source": [
    "import requests\n",
    "from datetime import datetime\n",
    "from bs4 import BeautifulSoup\n",
    "from math import nan\n",
    "import json, re, os\n",
    "\n",
    "headers = {\"user-agent\":\"Mozilla/5.0 (Windows NT 10.0; Win64; x64) AppleWebKit/537.36 (KHTML, like Gecko) Chrome/98.0.4758.82 Safari/537.36\"}\n",
    "\n",
    "def render_html(url):\n",
    "    req = requests.get(url,headers=headers)\n",
    "    return BeautifulSoup(req.text,\"html.parser\")\n",
    "\n",
    "def get_max_page(page):\n",
    "    max_page = page.find(\"div\",class_=\"pages\").find(\"span\").get_text()\n",
    "    max_page = [int(d) for d in re.findall(\"\\d+\",max_page)][-1]\n",
    "    return max_page\n",
    "\n",
    "def get_description(job_url):\n",
    "    page = render_html(job_url)\n",
    "    published = page.find(\"li\",id=\"cp_listed\").get_text().split(\": \")[-1]\n",
    "    h3 = page.find(\"div\",class_=\"single-main\").find(\"h3\",class_=\"description-area\")\n",
    "    description = h3.find_next(\"p\").get_text().strip()\n",
    "    return published, description\n",
    "\n",
    "def get_jobs(page):\n",
    "    jobs = []\n",
    "    stop_signal = False\n",
    "    curr_year = datetime.now().year\n",
    "    for item in page.find_all(\"div\",class_=\"post-block\"):\n",
    "        a = item.find(\"a\")\n",
    "        link = a['href']\n",
    "        title = a['title']\n",
    "        date, desc = get_description(link)\n",
    "        date = [d for d in date.split(\" \") if \":\" not in d]\n",
    "        year = int(date[-1])\n",
    "        wage = item.find(\"p\",class_=\"post-price\").get_text().strip()\n",
    "        if year == curr_year:\n",
    "            job = {\n",
    "                \"Link\": link,\n",
    "                \"Title\": title,\n",
    "                \"Jop Description\": desc,\n",
    "                \"Wage\": wage,\n",
    "                \"Date\": \" \".join(date)\n",
    "            }\n",
    "            jobs.append(job)\n",
    "        else:\n",
    "            stop_signal = True\n",
    "            break\n",
    "    return jobs, stop_signal"
   ]
  },
  {
   "cell_type": "code",
   "execution_count": null,
   "id": "independent-authentication",
   "metadata": {},
   "outputs": [],
   "source": [
    "# url = \"http://praca-holandia24.pl/ogloszenia/page/3/\"\n",
    "# page = render_html(url)"
   ]
  },
  {
   "cell_type": "code",
   "execution_count": null,
   "id": "dimensional-legislation",
   "metadata": {},
   "outputs": [],
   "source": [
    "# # max page\n",
    "# max_page = get_max_page(page)\n",
    "# max_page"
   ]
  },
  {
   "cell_type": "code",
   "execution_count": null,
   "id": "dense-environment",
   "metadata": {},
   "outputs": [],
   "source": [
    "# for item in page.find_all(\"div\",class_=\"post-block\"):\n",
    "#     a = item.find(\"a\")\n",
    "#     link = a['href']\n",
    "#     title = a['title']\n",
    "#     date, desc = get_description(link)\n",
    "#     date = [d for d in date.split(\" \") if \":\" not in d]\n",
    "#     wage = item.find(\"p\",class_=\"post-price\").get_text().strip()\n",
    "#     year = date[-1]\n",
    "#     year = int(year)\n",
    "#     job = {\n",
    "#         \"Link\": link,\n",
    "#         \"Title\": title,\n",
    "#         \"Jop Description\": desc,\n",
    "#         \"Wage\": wage,\n",
    "#         \"Date\": \" \".join(date)\n",
    "#     }\n",
    "#     print(job)\n",
    "#     print(\"-\"*180)"
   ]
  },
  {
   "cell_type": "code",
   "execution_count": null,
   "id": "external-commons",
   "metadata": {},
   "outputs": [],
   "source": [
    "# for item in page.find_all(\"div\",class_=\"post-block\"):\n",
    "#     a = item.find(\"a\")\n",
    "#     link = a['href']\n",
    "#     title = a['title']\n",
    "#     date, desc = get_description(link)\n",
    "#     date = [d for d in date.split(\" \") if \":\" not in d]\n",
    "#     wage = item.find(\"p\",class_=\"post-price\").get_text().strip()\n",
    "#     year = int(date[-1])\n",
    "#     job = {\n",
    "#         \"Link\": link,\n",
    "#         \"Title\": title,\n",
    "#         \"Jop Description\": desc,\n",
    "#         \"Wage\": wage,\n",
    "#         \"Date\": \" \".join(date)\n",
    "#     }"
   ]
  },
  {
   "cell_type": "code",
   "execution_count": 2,
   "id": "floating-richmond",
   "metadata": {},
   "outputs": [
    {
     "name": "stdout",
     "output_type": "stream",
     "text": [
      "1(10),2(20),3(30),4(40),5(50),6(60),7(70),8(80),9(90),10(100),11(110),12(119.\n"
     ]
    }
   ],
   "source": [
    "# scrape the first page\n",
    "url = \"http://praca-holandia24.pl/ogloszenia\"\n",
    "page = render_html(url)\n",
    "max_page = get_max_page(page)\n",
    "jobs, stop_signal = get_jobs(page)\n",
    "print(f\"1({len(jobs)})\",end=\",\")\n",
    "    \n",
    "# iterate and scrape the next page\n",
    "for i in range(2,max_page+1):\n",
    "    url = f\"http://praca-holandia24.pl/ogloszenia/page/{i}/\"\n",
    "    page = render_html(url)\n",
    "    new_jobs, stop_signal = get_jobs(page)\n",
    "    jobs.extend(new_jobs)\n",
    "    print(f\"{i}({len(jobs)})\",end=\",\")\n",
    "    if stop_signal:\n",
    "        break\n",
    "print(\"\\b.\")"
   ]
  },
  {
   "cell_type": "code",
   "execution_count": null,
   "id": "laughing-occasion",
   "metadata": {},
   "outputs": [],
   "source": [
    "jobs"
   ]
  },
  {
   "cell_type": "code",
   "execution_count": 3,
   "id": "closing-advisory",
   "metadata": {},
   "outputs": [],
   "source": [
    "import pandas as pd\n",
    "\n",
    "df = pd.DataFrame(jobs)\n",
    "df.to_excel(\"praca24.xlsx\",index=False,encoding=\"utf-8\")"
   ]
  }
 ],
 "metadata": {
  "kernelspec": {
   "display_name": "Python 3",
   "language": "python",
   "name": "python3"
  },
  "language_info": {
   "codemirror_mode": {
    "name": "ipython",
    "version": 3
   },
   "file_extension": ".py",
   "mimetype": "text/x-python",
   "name": "python",
   "nbconvert_exporter": "python",
   "pygments_lexer": "ipython3",
   "version": "3.8.7"
  }
 },
 "nbformat": 4,
 "nbformat_minor": 5
}

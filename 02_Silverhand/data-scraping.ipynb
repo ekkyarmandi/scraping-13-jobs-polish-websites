{
 "cells": [
  {
   "cell_type": "code",
   "execution_count": 1,
   "id": "worldwide-asbestos",
   "metadata": {},
   "outputs": [],
   "source": [
    "import requests\n",
    "from bs4 import BeautifulSoup\n",
    "from math import nan\n",
    "import json, re, os\n",
    "\n",
    "headers = {\"user-agent\":\"Mozilla/5.0 (Windows NT 10.0; Win64; x64) AppleWebKit/537.36 (KHTML, like Gecko) Chrome/98.0.4758.82 Safari/537.36\"}\n",
    "\n",
    "def render_html(url):\n",
    "    req = requests.get(url,headers=headers)\n",
    "    return BeautifulSoup(req.text,\"html.parser\")"
   ]
  },
  {
   "cell_type": "code",
   "execution_count": 2,
   "id": "introductory-mozambique",
   "metadata": {},
   "outputs": [],
   "source": [
    "url = \"https://en.silverhand.eu/candidate/jobs/\"\n",
    "page = render_html(url)"
   ]
  },
  {
   "cell_type": "code",
   "execution_count": 3,
   "id": "wrong-alaska",
   "metadata": {},
   "outputs": [],
   "source": [
    "jobs = []\n",
    "for li in page.find_all(\"li\"):\n",
    "    a = li.find(\"a\",class_=\"job-link\")\n",
    "    if a != None:\n",
    "        link = a['href']\n",
    "        location = a.find(\"div\",class_=\"job-location\").get_text().strip()\n",
    "        location = location.split(\":\")[-1].strip()\n",
    "        wage = a.find(\"div\",class_=\"value\").get_text().strip()\n",
    "        wage = wage.replace(\" / \",\"/\").replace(\" /\",\"/\").replace(\"/ \",\"/\")\n",
    "        title = a.find(\"h3\",class_=\"title\").get_text().strip()\n",
    "        job = {\n",
    "            \"Link\": link,\n",
    "            \"Workplace\": location,\n",
    "            \"Title\": title,\n",
    "            \"Wage\": wage,\n",
    "        }\n",
    "        jobs.append(job)"
   ]
  },
  {
   "cell_type": "code",
   "execution_count": null,
   "id": "declared-target",
   "metadata": {},
   "outputs": [],
   "source": [
    "jobs"
   ]
  },
  {
   "cell_type": "code",
   "execution_count": 6,
   "id": "sensitive-harbor",
   "metadata": {},
   "outputs": [],
   "source": [
    "import pandas as pd\n",
    "\n",
    "df = pd.DataFrame(jobs)\n",
    "df = df.dropna()\n",
    "df.to_excel(\"silverhand.xlsx\",encoding=\"utf-8\",index=False)"
   ]
  }
 ],
 "metadata": {
  "kernelspec": {
   "display_name": "Python 3",
   "language": "python",
   "name": "python3"
  },
  "language_info": {
   "codemirror_mode": {
    "name": "ipython",
    "version": 3
   },
   "file_extension": ".py",
   "mimetype": "text/x-python",
   "name": "python",
   "nbconvert_exporter": "python",
   "pygments_lexer": "ipython3",
   "version": "3.8.7"
  }
 },
 "nbformat": 4,
 "nbformat_minor": 5
}
